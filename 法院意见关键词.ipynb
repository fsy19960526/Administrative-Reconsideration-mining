{
 "cells": [
  {
   "cell_type": "code",
   "execution_count": 1,
   "metadata": {},
   "outputs": [
    {
     "name": "stderr",
     "output_type": "stream",
     "text": [
      "Building prefix dict from the default dictionary ...\n",
      "Loading model from cache C:\\Users\\62480\\AppData\\Local\\Temp\\jieba.cache\n",
      "Loading model cost 1.098 seconds.\n",
      "Prefix dict has been built successfully.\n"
     ]
    }
   ],
   "source": [
    "#!/usr/bin/env python3\n",
    "# coding: utf-8\n",
    "import xlrd\n",
    "\n",
    "#encoding=utf-8\n",
    "import jieba.analyse\n",
    "import os\n",
    "import pymysql\n",
    "\n",
    "#从字符串中提取前20个关键词\n",
    "def get_keyword_from_txt(content):      \t\n",
    "\tjieba.analyse.set_stop_words('stopWords.txt')\n",
    "\ttags = jieba.analyse.extract_tags(content, topK=20, withWeight=True)\n",
    "\treturn tags\n",
    "\n",
    "#对法院意见进行关键词提取\n",
    "def opinion(result):\n",
    "\t# 打开excel文件，创建一个workbook对象,book对象也就是fruits.xlsx文件,表含有sheet名\n",
    "\trbook = xlrd.open_workbook('行政复议.xlsx')\n",
    "\t# sheets方法返回对象列表,[<xlrd.sheet.Sheet object at 0x103f147f0>]\n",
    "\n",
    "\tfor i in range(4):\n",
    "\t\trsheet = rbook.sheet_by_index(i)\n",
    "\t\ttitleStr = \"\"\n",
    "\n",
    "\t\t# 循环工作簿的所有行\n",
    "\t\tfor row in rsheet.get_rows():\n",
    "\t\t    # 案件结果: 败诉  胜诉\n",
    "\t\t    outcome = row[3]\n",
    "\t\t    outcome_value = outcome.value \n",
    "\t\t    #法院意见\n",
    "\t\t    opinion_column = row[9]    \n",
    "\t\t    opinion_value = opinion_column.value\n",
    "\t\t    \n",
    "\t\t    # 判断案件结果：胜诉  败诉\n",
    "\t\t    if outcome_value == result:                \n",
    "\t\t        # 打印\n",
    "\t\t        titleStr += (opinion_value + \" \")\n",
    "\t\t\n",
    "\t\ttags = get_keyword_from_txt(titleStr)\n",
    "\t\tif(result == \"胜诉\"):\t\t\t\n",
    "\t\t\ttxtName = \"keywords/201\" + str(6+i) + \"_court_opinion_success.txt\"\n",
    "\t\telse:\n",
    "\t\t\ttxtName = \"keywords/201\" + str(6+i) + \"_court_opinion_fail.txt\"\n",
    "\t\twith open (txtName, \"w\") as f:\n",
    "\t\t\tfor w, v in tags:\n",
    "\t\t\t\tf.write(w + \" \" + str(v) + \"\\n\")\n",
    "\n",
    "#对四年所有的法院意见进行关键词提取（胜诉，败诉分别提取）\n",
    "def opinion_all(result):\n",
    "\t\t# 打开excel文件，创建一个workbook对象,book对象也就是fruits.xlsx文件,表含有sheet名\n",
    "\trbook = xlrd.open_workbook('行政复议.xlsx')\n",
    "\t# sheets方法返回对象列表,[<xlrd.sheet.Sheet object at 0x103f147f0>]\n",
    "\tallStr = \"\"\n",
    "\tfor i in range(4):\n",
    "\t\trsheet = rbook.sheet_by_index(i)\n",
    "\t\ttitleStr = \"\"\n",
    "\n",
    "\t\t# 循环工作簿的所有行\n",
    "\t\tfor row in rsheet.get_rows():\n",
    "\t\t    # 案件结果: 败诉  胜诉\n",
    "\t\t    outcome = row[3]\n",
    "\t\t    outcome_value = outcome.value \n",
    "\t\t    #法院意见\n",
    "\t\t    opinion_column = row[9]    \n",
    "\t\t    opinion_value = opinion_column.value\n",
    "\t\t    \n",
    "\t\t    # 判断案件结果：胜诉  败诉\n",
    "\t\t    if outcome_value == result:                \n",
    "\t\t        # 打印\n",
    "\t\t        titleStr += (opinion_value + \" \")\n",
    "\t\tallStr += titleStr\n",
    "\n",
    "\ttags = get_keyword_from_txt(allStr)\t\n",
    "\n",
    "\tif(result == \"胜诉\"):\n",
    "\t\ttxtName = \"keywords/all_opinion_success.txt\"\n",
    "\telse:\n",
    "\t\ttxtName = \"keywords/all_opinion_fail.txt\"\n",
    "\twith open(txtName, \"w\") as f:\n",
    "\t\tfor w, v in tags:\n",
    "\t\t\tf.write(w + \" \" + str(v) + \"\\n\")\n",
    "\n",
    "if __name__ == \"__main__\":\n",
    "\topinion(\"胜诉\")\n",
    "\topinion(\"败诉\")\n",
    "\topinion_all(\"胜诉\")\n",
    "\topinion_all(\"败诉\")"
   ]
  },
  {
   "cell_type": "code",
   "execution_count": 3,
   "metadata": {},
   "outputs": [],
   "source": [
    "with open(\"keywords/all_opinion_success.txt\", 'r') as f:\n",
    "    str = f.read()"
   ]
  },
  {
   "cell_type": "code",
   "execution_count": 5,
   "metadata": {},
   "outputs": [
    {
     "name": "stdout",
     "output_type": "stream",
     "text": [
      "胜诉 法院意见\n",
      "上诉人 0.11610626818640277\n",
      "征收 0.10249672233712526\n",
      "房屋 0.06957056061323234\n",
      "公积金 0.06720771036491174\n",
      "补偿 0.059355922205223385\n",
      "起诉 0.05525861382407206\n",
      "被上诉人 0.05241125055954142\n",
      "行政诉讼 0.04975592669071729\n",
      "住房 0.0466519481406368\n",
      "法定 0.04583779830274559\n",
      "缴存 0.04272978754307336\n",
      "行政诉讼法 0.04165581093201841\n",
      "综上 0.038869147189931244\n",
      "诉讼请求 0.03697924035672313\n",
      "法律 0.035355385178972576\n",
      "诉讼 0.0348639921081828\n",
      "正确 0.034828359656585706\n",
      "上诉 0.034746050200778394\n",
      "提出 0.03451745401444661\n",
      "请求 0.03447522023880873\n",
      "\n"
     ]
    }
   ],
   "source": [
    "print(\"四年胜诉 法院意见\")\n",
    "print(str)"
   ]
  },
  {
   "cell_type": "code",
   "execution_count": 6,
   "metadata": {},
   "outputs": [],
   "source": [
    "with open(\"keywords/all_opinion_fail.txt\", 'r') as f:\n",
    "    str = f.read()"
   ]
  },
  {
   "cell_type": "code",
   "execution_count": 7,
   "metadata": {},
   "outputs": [
    {
     "name": "stdout",
     "output_type": "stream",
     "text": [
      "四年败诉 法院意见\n",
      "征收 0.10953573967147959\n",
      "房屋 0.09005783508739243\n",
      "补偿 0.07690000305176459\n",
      "应予 0.06629663964650113\n",
      "起诉 0.06555950030813439\n",
      "上诉人 0.06378492819113482\n",
      "法律 0.05842105753140707\n",
      "撤销 0.05744245768351734\n",
      "诉讼 0.055305312678176795\n",
      "行政诉讼 0.052820352515514056\n",
      "行政诉讼法 0.04694219334991449\n",
      "事实 0.042281330796490865\n",
      "土地 0.03765644707135235\n",
      "违法 0.03631734987087671\n",
      "法定 0.03570573203648494\n",
      "准许 0.035410129667186534\n",
      "起诉人 0.03517218027560025\n",
      "被上诉人 0.03216504925877739\n",
      "受案 0.03199807214954055\n",
      "撤回 0.03177275193277014\n",
      "\n"
     ]
    }
   ],
   "source": [
    "print(\"四年败诉 法院意见\")\n",
    "print(str)"
   ]
  },
  {
   "cell_type": "code",
   "execution_count": null,
   "metadata": {},
   "outputs": [],
   "source": []
  }
 ],
 "metadata": {
  "kernelspec": {
   "display_name": "Python 3",
   "language": "python",
   "name": "python3"
  },
  "language_info": {
   "codemirror_mode": {
    "name": "ipython",
    "version": 3
   },
   "file_extension": ".py",
   "mimetype": "text/x-python",
   "name": "python",
   "nbconvert_exporter": "python",
   "pygments_lexer": "ipython3",
   "version": "3.6.5"
  }
 },
 "nbformat": 4,
 "nbformat_minor": 2
}
